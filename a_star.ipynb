{
 "cells": [
  {
   "cell_type": "markdown",
   "metadata": {},
   "source": [
    "# A* graph traversal implementation"
   ]
  },
  {
   "cell_type": "markdown",
   "metadata": {},
   "source": [
    "This work is baded on the articles in wikipedia and geeks for geeks."
   ]
  },
  {
   "cell_type": "markdown",
   "metadata": {},
   "source": [
    "<div class=\"alert alert-info\">\n",
    "    <h2>Part 1: Problem introduction and A* explanation </h2>\n",
    "</div>"
   ]
  },
  {
   "cell_type": "code",
   "execution_count": 12,
   "metadata": {},
   "outputs": [],
   "source": [
    "from IPython.display import Image\n",
    "from IPython.core.display import HTML "
   ]
  },
  {
   "cell_type": "markdown",
   "metadata": {},
   "source": [
    "**Problem** : The problem at hand can be reduced to path finding in a graph. Grids can be reduced to undirected graphs with cells having 2 states : accessible or blocked. Owing to some knowledge in graph theory, I implemented A* algorithm in python to find a path in a grid.\n",
    "\n",
    "**Solution** : \n",
    "Let's consider a 2D grid, thoough the algorith below can be generalised to any dimension. Each cell in the given grid has typically 8 neighbours as illustrated below : "
   ]
  },
  {
   "cell_type": "code",
   "execution_count": 13,
   "metadata": {},
   "outputs": [
    {
     "data": {
      "text/html": [
       "<img src=\"https://www.researchgate.net/profile/Toni-Oesterlund/publication/258434100/figure/fig7/AS:646478561284120@1531143908746/Cellular-Automata-grid-and-neighbours-presented-as-graphs-From-the-left-the-active-cell.png\"/>"
      ],
      "text/plain": [
       "<IPython.core.display.Image object>"
      ]
     },
     "execution_count": 13,
     "metadata": {},
     "output_type": "execute_result"
    }
   ],
   "source": [
    "Image(url= \"https://www.researchgate.net/profile/Toni-Oesterlund/publication/258434100/figure/fig7/AS:646478561284120@1531143908746/Cellular-Automata-grid-and-neighbours-presented-as-graphs-From-the-left-the-active-cell.png\")"
   ]
  },
  {
   "cell_type": "markdown",
   "metadata": {},
   "source": [
    "We want to move from a cell to its most promising neighbour, if the neighbour is within the grid and accessible. To assess the fit of a cell we use heuristics which are functions that approximately measure how good a cell is in terms of approaching our destination. Here the heuristics are distance functions : Manhattan distance, Euclidean distance and Diagonal distance. using this function, we can employ the A* algorithm to find a path.\n",
    "\n",
    "**The A* algorithm** \n",
    "A* is one of the most known algorithms in path finding and graph traversal. What sets A* appart from other algorithms sych as : Dijkstra, DFS or BFS is that is an informed algorithm, mainly using the heuristics as mentioned above.\n",
    "\n",
    "**Detailed explanation**\n",
    "\n",
    "Let's agagin consider a square grid that can have obstacles, a starting point and a destination. Our goal is to reach the destination, if that is doable, as fast as we can and here where the heuuristics comes in as an informed guess on the next steps. At each step, we compute a function value that is the sum of the distance to the target cell and the cost to move from the current cell to the candidate cell : These are named below **heur** and **cost** respectively. The algoorithm then picks the node having the lowest function value as its next cell and repeats the proceduure until reaching the target.\n",
    "\n",
    "**Algorithmm steps** \n",
    "We begin by creating two lists a closed list and ann open list which are the set of visited and to visit cells respectively. \n",
    "\n",
    "1. Initialize the open list and put the starting node inside it. \n",
    "2. Initialize the close list.\n",
    "3. While the open list is not empty (there more cells to explore):\n",
    "\n",
    "    1. find the cell with least value function, denote it \"c\".\n",
    "    2. Discard and retrieve c from the open list.\n",
    "    3. Detect c's 8 neighbours and set their parent to c.\n",
    "    4. For each neighbour:\n",
    "    \n",
    "        a) if the current cell is the goal then stop and set the cell's cost and heuristic.\n",
    "        \n",
    "        b) if a cell with the same position and lower value is in the openn list then \n",
    "        ignore the cell\n",
    "        \n",
    "        c) if a cell with the same position and a lower value function is in the closed list\n",
    "            then ignore, else add the cell to the openn list.\n",
    "     end  the for loop\n",
    "  \n",
    "    5. push c in the closet list.\n",
    "6. Terminate the while loop."
   ]
  },
  {
   "cell_type": "markdown",
   "metadata": {},
   "source": [
    "<div class=\"alert alert-info\">\n",
    "    <h2>Part 2: Coding part </h2>\n",
    "</div>"
   ]
  },
  {
   "cell_type": "markdown",
   "metadata": {},
   "source": [
    "### Class to hold points info"
   ]
  },
  {
   "cell_type": "code",
   "execution_count": 1,
   "metadata": {},
   "outputs": [],
   "source": [
    "class pointInfo():\n",
    "    \"\"\"Class to store grid points as graph nodes.\n",
    "    \"\"\"\n",
    "    def __init__(self, x, y, val, px=-1, py=-1):\n",
    "        \"\"\"Function to intialise points info.\n",
    "\n",
    "        :param int x:\n",
    "            x-coordinate of the point\n",
    "        :param int y:\n",
    "            y-coordinate of the point\n",
    "        :param int val:\n",
    "            The value of the point in the grid (0 or 1)\n",
    "        :param int px:\n",
    "            x-coordinate of the parent point\n",
    "        :param int py:\n",
    "            y-coordinate of the parent point\n",
    "        :returns:\n",
    "            None.\n",
    "        :rtype:\n",
    "            None\n",
    "        \"\"\"\n",
    "        self.x = x\n",
    "        self.y = y\n",
    "        self.val = val\n",
    "        self.px = px\n",
    "        self.py = py\n",
    "        self.fval = float('inf')\n",
    "        self.heur = float('inf')\n",
    "        self.cost = float('inf')\n",
    "\n",
    "    def __eq__(self, other) -> bool:\n",
    "        \"\"\"Function to assess if two points are equal.\n",
    "        :param infoPoint self:\n",
    "            The first point\n",
    "        :param infoPoint other:\n",
    "            The second point\n",
    "        :returns:\n",
    "            Returns True if the two points are the same, False otherwise.\n",
    "        :rtype:\n",
    "            bool\n",
    "        \"\"\"\n",
    "        return self.x == other.x and self.y == other.y\n",
    "\n",
    "    def isUnblockedCell(self) -> bool:\n",
    "        \"\"\"Function to assess a point is blocked.\n",
    "        :param infoPoint self:\n",
    "            The point to check\n",
    "        :returns:\n",
    "            Returns True if the point is unblocked, False otherwise.\n",
    "        :rtype:\n",
    "            bool\n",
    "        \"\"\"\n",
    "        return self.val != 1"
   ]
  },
  {
   "cell_type": "markdown",
   "metadata": {},
   "source": [
    "### Utilities "
   ]
  },
  {
   "cell_type": "code",
   "execution_count": 2,
   "metadata": {},
   "outputs": [],
   "source": [
    "def isValidCell(point_coor, grid_size) -> bool:\n",
    "    \"\"\"Assess if a given point is within the grid.\n",
    "    :param array-like point_coor:\n",
    "        Array-like object of size 2 that holds the x and y\n",
    "        coordinates of a given point.\n",
    "    :param array-like grid_size:\n",
    "        Array-like object of size 2 taht holds the number\n",
    "        of rows and cols in the grid.\n",
    "    :returns:\n",
    "        True if the point is within the grid, False otherwise.\n",
    "    :rtype:\n",
    "        bool\n",
    "    \"\"\"\n",
    "    x, y = point_coor  # get the coordinates of the point\n",
    "    rows, cols = grid_size  # get the rows and cols\n",
    "    return (x >= 0) and (x < rows) and (y >= 0) and (y < cols)"
   ]
  },
  {
   "cell_type": "code",
   "execution_count": 3,
   "metadata": {},
   "outputs": [],
   "source": [
    "def heuristic(a, b, method='Manhattan') -> float:\n",
    "    \"\"\"Function to compute distance to the goal.\n",
    "\n",
    "    Used to determine which point in the grid is nearer\n",
    "    to the goal.\n",
    "    :param pointInfo a:\n",
    "        The first point\n",
    "    :param pointinfo b:\n",
    "        The second point.\n",
    "    : param string method:\n",
    "        the metric used too compute the distance.\n",
    "    :returns:\n",
    "        The distance between the points.\n",
    "    :rtype:\n",
    "        float\n",
    "    \"\"\"\n",
    "    assert method in [\"Manhattan\", \"Euclidean\", \"Diagonal\"],\\\n",
    "        \"Method can only be one of the following : Manhattan,\\\n",
    "        Euclidean or Diagonal\"\n",
    "    if method == 'Manhattan':\n",
    "        distance = abs(a.x - b.x) + abs(a.y - b.y)\n",
    "    elif method == 'Euclidean':\n",
    "        distance = ((a.x-b.x)**2 + (a.y-b.y)**2)**0.5\n",
    "    else:\n",
    "        distance = abs(a.x-b.x) + abs(a.y-b.y) + \\\n",
    "            (2 ** 0.5 - 2) * min(abs(a.x-b.x), abs(a.y-b.y))\n",
    "    return distance"
   ]
  },
  {
   "cell_type": "code",
   "execution_count": 9,
   "metadata": {},
   "outputs": [],
   "source": [
    "def backtrackPath(pointsGrid, stop, verbose=True) -> list:\n",
    "    \"\"\"backtrack through points to find path.\n",
    "\n",
    "   Used to loop through the grid and return the path.\n",
    "\n",
    "    :param list of lists of pointInfo points_grid:\n",
    "        A grid that holds all relevant info on the points.\n",
    "    :param infoPoint stop:\n",
    "        The end point to reach\n",
    "    :param bool verbose:\n",
    "        Whether or not too print the path\n",
    "    :returns:\n",
    "        the path from the start to the goal.\n",
    "    :rtype:\n",
    "        list\n",
    "    \"\"\"\n",
    "    # Intialise the path to empty\n",
    "    # get the end point to backtrack\n",
    "    row, col, path = stop.x, stop.y, []\n",
    "    # backtrack through the grid until reaching the start\n",
    "    # the start is characterised by being itself's parent\n",
    "    while not (pointsGrid[row][col].px == row\n",
    "               and pointsGrid[row][col].py == col):\n",
    "        path.append([row, col])\n",
    "        tempRow = pointsGrid[row][col].px\n",
    "        tempCol = pointsGrid[row][col].py\n",
    "        row = tempRow\n",
    "        col = tempCol\n",
    "    path.append([row, col])\n",
    "    # reverse the path\n",
    "    path.reverse()\n",
    "    # print if verbose\n",
    "    if verbose:\n",
    "        literal = ''\n",
    "        for cell in path:\n",
    "            literal + str(cell[0])+str(cell[1])+'->'\n",
    "        print('Path is ', literal)\n",
    "    return path"
   ]
  },
  {
   "cell_type": "markdown",
   "metadata": {},
   "source": [
    "### A* algorithm"
   ]
  },
  {
   "cell_type": "code",
   "execution_count": 14,
   "metadata": {},
   "outputs": [],
   "source": [
    "def myPathPlanning(grid, start, stop):\n",
    "    \"\"\"Executes A* algorithm on a grid.\n",
    "\n",
    "    Determines if a path can be found between the start and\n",
    "    the stop given by the user.\n",
    "\n",
    "    :param list of list grid:\n",
    "        A list of list that consists of 0 and 1.\n",
    "    :param list start:\n",
    "        A list including the x and y coordinates of the\n",
    "        start point.\n",
    "    :param list stop:\n",
    "        A list including the x and y coordinates of the\n",
    "        stop point.\n",
    "    :returns:\n",
    "        The path if found otherwise no output.\n",
    "    :rtype:\n",
    "        list\n",
    "    \"\"\"\n",
    "    # get the number rows and cols of the grid\n",
    "    gridSize = (len(grid), len(grid[0]))\n",
    "    # Convert the grid cells into points class\n",
    "    pointsGrid = [[pointInfo(i, j, grid[i][j]) for j in range(gridSize[0])]\n",
    "                  for i in range(gridSize[1])]\n",
    "    # We check if the Start, stop are not in the grid\n",
    "    if not isValidCell((start[0], start[1]), gridSize):\n",
    "        print(\"The start is out of the grid\")\n",
    "        return None\n",
    "    if not isValidCell((stop[0], stop[1]), gridSize):\n",
    "        print(\"The stop is out of the grid\")\n",
    "        return None\n",
    "    # set the start node on the grid\n",
    "    # set the stopping criteria as mentioned in the\n",
    "    # backtrack function (itself's parent)\n",
    "    # set statistics to 0\n",
    "    x, y = start[0], start[1]\n",
    "    pointsGrid[x][y].px, pointsGrid[x][y].py = x, y\n",
    "    pointsGrid[x][y].val = grid[x][y]\n",
    "    pointsGrid[x][y].fval = 0\n",
    "    pointsGrid[x][y].cost = 0\n",
    "    pointsGrid[x][y].heur = 0\n",
    "    # convert the stop to pointInfo class for ease\n",
    "    stop = pointInfo(stop[0], stop[1], grid[stop[0]][stop[1]])\n",
    "    # check if the start ot the stop are blocked\n",
    "    if not pointsGrid[x][y].isUnblockedCell():\n",
    "        print(\"The start is a blocked cell\")\n",
    "        return None\n",
    "    if not stop.isUnblockedCell():\n",
    "        print(\"The stop is a blocked cell\")\n",
    "        return None\n",
    "    # Early stopping if the start is the stop\n",
    "    if pointsGrid[x][y] == stop:\n",
    "        print(\"stop already reached, nothing to do\\n\")\n",
    "        return None\n",
    "    # Intialise an empty closed list to hold the cells for later\n",
    "    # initialise a boolean variable for to see if we reached the stop\n",
    "    openList, reached = [pointsGrid[x][y]], False\n",
    "    # Intilaise a boolean closed list to keep track of visited cells\n",
    "    closedList = [[False for i in range(gridSize[0])]\n",
    "                  for j in range(gridSize[1])]\n",
    "    # Loop while there more cells to explore\n",
    "    while len(openList) > 0:\n",
    "        # discard the promising cell and retrieve it\n",
    "        cell = openList.pop(0)\n",
    "        x, y = cell.x, cell.y\n",
    "        closedList[x][y] == True\n",
    "        # generate all neighbours coordinates\n",
    "        neighbourPosList = [[x+i, y+j] for i in range(-1, 2) for j in range(-1,2)]\n",
    "        neighbourPosList.remove([x, y])\n",
    "        # Loop through neighbours\n",
    "        for neighbourPos in neighbourPosList:\n",
    "            xn, yn = neighbourPos # get x and y \n",
    "            # Only check neighbour if it is valid\n",
    "            if isValidCell(neighbourPos, gridSize):\n",
    "                # Check if the current cell is the Stop\n",
    "                if pointsGrid[xn][yn] == stop:\n",
    "                    # Set the parents of the Stop cells\n",
    "                    pointsGrid[xn][yn].px = cell.x\n",
    "                    pointsGrid[xn][yn].py = cell.y\n",
    "                    print(\"Stop reached\")\n",
    "                    # backtrack to get path\n",
    "                    path = backtrackPath(pointsGrid, stop)\n",
    "                    reached = True\n",
    "                    return reached, path\n",
    "                # Ignore cell if it is blocked or in the closed list\n",
    "                # Else compute statitic and add to the open list\n",
    "                # if it is in the open list, update statistics\n",
    "                else :\n",
    "                    if not closedList[xn][yn] and pointsGrid[xn][yn].isUnblockedCell(): \n",
    "                        # compute cost and heuristic values\n",
    "                        cost = pointsGrid[cell.x][cell.y].cost + heuristic(cell, pointsGrid[xn][yn], method='Euclidean')\n",
    "                        heur = heuristic(pointsGrid[xn][yn], stop)\n",
    "                        # update statistics\n",
    "                        if pointsGrid[xn][yn].fval == float('inf') or pointsGrid[xn][yn].fval > heur+cost:\n",
    "                            # Update the details of the cell\n",
    "                            pointsGrid[xn][yn].fval = heur+cost\n",
    "                            pointsGrid[xn][yn].cost = cost\n",
    "                            pointsGrid[xn][yn].heur = heur\n",
    "                            pointsGrid[xn][yn].px = cell.x\n",
    "                            pointsGrid[xn][yn].py = cell.y\n",
    "                            # Add to openList\n",
    "                            openList.append(pointsGrid[xn][yn])\n",
    "    # if no path can be found\n",
    "    if not reached:\n",
    "        print(\"Failed to find a path\")\n",
    "\n",
    "    return None"
   ]
  },
  {
   "cell_type": "markdown",
   "metadata": {},
   "source": [
    "### Testing the algorithm"
   ]
  },
  {
   "cell_type": "code",
   "execution_count": 22,
   "metadata": {},
   "outputs": [
    {
     "name": "stdout",
     "output_type": "stream",
     "text": [
      "Stop reached\n",
      "Path is  \n"
     ]
    },
    {
     "data": {
      "text/plain": [
       "(True, [[4, 0], [3, 0], [2, 1], [1, 2], [0, 3], [0, 4]])"
      ]
     },
     "execution_count": 22,
     "metadata": {},
     "output_type": "execute_result"
    }
   ],
   "source": [
    "grid = [ [ 1,0,1,0,0 ], [ 0,0,0,0,1 ], [ 1,0,1,1,0 ], [ 0,0,0,0,0 ], [ 0,1,0,1,0 ] ]\n",
    "start = [4, 0]\n",
    "stop = [0, 4]\n",
    "myPathPlanning(grid, start, stop)"
   ]
  }
 ],
 "metadata": {
  "kernelspec": {
   "display_name": "Python 3",
   "language": "python",
   "name": "python3"
  },
  "language_info": {
   "codemirror_mode": {
    "name": "ipython",
    "version": 3
   },
   "file_extension": ".py",
   "mimetype": "text/x-python",
   "name": "python",
   "nbconvert_exporter": "python",
   "pygments_lexer": "ipython3",
   "version": "3.8.5"
  }
 },
 "nbformat": 4,
 "nbformat_minor": 4
}
